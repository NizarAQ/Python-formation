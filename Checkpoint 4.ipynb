{
 "cells": [
  {
   "cell_type": "code",
   "execution_count": 6,
   "id": "bd1e22f2",
   "metadata": {},
   "outputs": [
    {
     "data": {
      "text/plain": [
       "35"
      ]
     },
     "execution_count": 6,
     "metadata": {},
     "output_type": "execute_result"
    }
   ],
   "source": [
    "def max3(a,b,c):\n",
    "    x = max(a,b,c)\n",
    "    return x\n",
    "\n",
    "max3(20,35,19)"
   ]
  },
  {
   "cell_type": "code",
   "execution_count": 26,
   "id": "0ec5462e",
   "metadata": {},
   "outputs": [
    {
     "data": {
      "text/plain": [
       "(50, 30)"
      ]
     },
     "execution_count": 26,
     "metadata": {},
     "output_type": "execute_result"
    }
   ],
   "source": [
    "def calculation(a,b):\n",
    "    x = a+b\n",
    "    y = a-b\n",
    "    return x, y\n",
    "calculation(40,10)"
   ]
  },
  {
   "cell_type": "code",
   "execution_count": 52,
   "id": "9014d5fd",
   "metadata": {},
   "outputs": [
    {
     "data": {
      "text/plain": [
       "(12, 35)"
      ]
     },
     "execution_count": 52,
     "metadata": {},
     "output_type": "execute_result"
    }
   ],
   "source": [
    "def sums(x):\n",
    "    a=0\n",
    "    for i in x:\n",
    "       a=a+i\n",
    "    return a\n",
    "\n",
    "def multip(x):\n",
    "    b=1\n",
    "    for j in x:\n",
    "        b=b*j\n",
    "    return b\n",
    "\n",
    "x = [2, 4, 5, 7, 6]\n",
    "y = []\n",
    "z = []\n",
    "for i in x:\n",
    "    if i%2==0:\n",
    "        y.append(i)\n",
    "    else:\n",
    "        z.append(i)\n",
    "\n",
    "sums(y), multip(z)"
   ]
  },
  {
   "cell_type": "code",
   "execution_count": 54,
   "id": "6e13d8f1",
   "metadata": {},
   "outputs": [
    {
     "name": "stdout",
     "output_type": "stream",
     "text": [
      "black-green-red-white-yellow\n"
     ]
    }
   ],
   "source": [
    "x = \"green-red-yellow-black-white\"\n",
    "items=[n for n in x.split('-')]\n",
    "items.sort()\n",
    "print('-'.join(items))"
   ]
  },
  {
   "cell_type": "code",
   "execution_count": 125,
   "id": "dd0f33bc",
   "metadata": {},
   "outputs": [
    {
     "name": "stdout",
     "output_type": "stream",
     "text": [
      "100,150,180\n",
      "18,22,24\n"
     ]
    }
   ],
   "source": [
    "import math\n",
    "C=50\n",
    "H=30\n",
    "D = input()\n",
    "D = [n for n in D.split(',')]\n",
    "x = []\n",
    "\n",
    "for n in D:\n",
    "    n = int(n)\n",
    "    Q = int(math.sqrt((2*C*n)/H))\n",
    "    x.append(Q)\n",
    "    converted_list = [str(i) for i in x]\n",
    "    joined_string = \",\".join(converted_list)\n",
    "    \n",
    "print(joined_string)\n",
    "    "
   ]
  }
 ],
 "metadata": {
  "kernelspec": {
   "display_name": "Python 3 (ipykernel)",
   "language": "python",
   "name": "python3"
  },
  "language_info": {
   "codemirror_mode": {
    "name": "ipython",
    "version": 3
   },
   "file_extension": ".py",
   "mimetype": "text/x-python",
   "name": "python",
   "nbconvert_exporter": "python",
   "pygments_lexer": "ipython3",
   "version": "3.9.7"
  }
 },
 "nbformat": 4,
 "nbformat_minor": 5
}
