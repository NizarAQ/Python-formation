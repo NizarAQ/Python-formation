{
 "cells": [
  {
   "cell_type": "code",
   "execution_count": 5,
   "id": "78fbeaab",
   "metadata": {},
   "outputs": [
    {
     "name": "stdout",
     "output_type": "stream",
     "text": [
      "[1, 2, 3]\n"
     ]
    }
   ],
   "source": [
    "import numpy as np\n",
    "\n",
    "x = np.array([1,2,3])\n",
    "y = x.tolist()\n",
    "\n",
    "print(y)"
   ]
  },
  {
   "cell_type": "code",
   "execution_count": 19,
   "id": "0e050bed",
   "metadata": {},
   "outputs": [
    {
     "name": "stdout",
     "output_type": "stream",
     "text": [
      "the array :\n",
      "[[0 1 2]\n",
      " [3 4 5]\n",
      " [6 7 8]]\n",
      "the sum of the diagonal of this array is : 12\n"
     ]
    }
   ],
   "source": [
    "import numpy as np\n",
    "\n",
    "a = np.arange(9).reshape(3,3)\n",
    "print(\"the array :\") \n",
    "print(a)\n",
    "\n",
    "sum_diagonal = np.trace(a)\n",
    "print(\"the sum of the diagonal of this array is :\", sum_diagonal)"
   ]
  },
  {
   "cell_type": "code",
   "execution_count": 25,
   "id": "2f54a920",
   "metadata": {},
   "outputs": [
    {
     "name": "stdout",
     "output_type": "stream",
     "text": [
      "the array :\n",
      "[[ 1  4]\n",
      " [ 7  3]\n",
      " [ 8  2]\n",
      " [14  5]]\n",
      "Values higher than 5 = [ 7  8 14]\n",
      "Their indices are  (array([1, 2, 3], dtype=int64), array([0, 0, 0], dtype=int64))\n"
     ]
    }
   ],
   "source": [
    "import numpy as np\n",
    "\n",
    "b = np.array([(1,4),(7,3),(8,2),(14,5)])\n",
    "print(\"the array :\") \n",
    "print(b)\n",
    "\n",
    "print(\"Values higher than 5 =\", b[b>5])\n",
    "print(\"Their indices are \", np.nonzero(b > 5))"
   ]
  },
  {
   "cell_type": "code",
   "execution_count": 38,
   "id": "58a9920b",
   "metadata": {},
   "outputs": [
    {
     "name": "stdout",
     "output_type": "stream",
     "text": [
      "[[ 9  5]\n",
      " [ 6 12]\n",
      " [14 11]]\n"
     ]
    }
   ],
   "source": [
    "import numpy as np\n",
    "\n",
    "A = np.array([(4,2),(5,3),(4,7)])\n",
    "B = np.array([(5,3),(1,9),(10,4)])\n",
    "\n",
    "C = np.add(A,B)\n",
    "print(C)"
   ]
  },
  {
   "cell_type": "code",
   "execution_count": 37,
   "id": "851fea54",
   "metadata": {},
   "outputs": [
    {
     "name": "stdout",
     "output_type": "stream",
     "text": [
      "\n",
      " the array :\n",
      "\n",
      "[[4 2 5]\n",
      " [5 3 9]\n",
      " [4 7 1]]\n",
      "\n",
      " the new array after substracting the mean of each row :\n",
      "\n",
      "[[ 0.33333333 -1.66666667  1.33333333]\n",
      " [-0.66666667 -2.66666667  3.33333333]\n",
      " [ 0.          3.         -3.        ]]\n"
     ]
    }
   ],
   "source": [
    "import numpy as np\n",
    "\n",
    "array1 = np.array([(4,2,5),(5,3,9),(4,7,1)])\n",
    "print(\"\\n the array :\\n\")\n",
    "print(array1)\n",
    "\n",
    "array2 = array1 - array1.mean(axis=1, keepdims=True)\n",
    "print(\"\\n the new array after substracting the mean of each row :\\n\") \n",
    "print(array2)"
   ]
  }
 ],
 "metadata": {
  "kernelspec": {
   "display_name": "Python 3 (ipykernel)",
   "language": "python",
   "name": "python3"
  },
  "language_info": {
   "codemirror_mode": {
    "name": "ipython",
    "version": 3
   },
   "file_extension": ".py",
   "mimetype": "text/x-python",
   "name": "python",
   "nbconvert_exporter": "python",
   "pygments_lexer": "ipython3",
   "version": "3.9.7"
  }
 },
 "nbformat": 4,
 "nbformat_minor": 5
}
