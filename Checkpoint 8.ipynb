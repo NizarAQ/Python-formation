{
 "cells": [
  {
   "cell_type": "code",
   "execution_count": 7,
   "id": "9a4c2183",
   "metadata": {},
   "outputs": [],
   "source": [
    "f = open(\"test.txt\",'r',encoding = 'utf-8')"
   ]
  },
  {
   "cell_type": "code",
   "execution_count": 30,
   "id": "5d090ac6",
   "metadata": {},
   "outputs": [
    {
     "name": "stdout",
     "output_type": "stream",
     "text": [
      "2\n",
      "bonjour\n",
      "\n",
      "je m'appelle AQACHMAR Nizar\n",
      "\n"
     ]
    }
   ],
   "source": [
    "def first_lines(fname, nlines):\n",
    "        from itertools import islice\n",
    "        with open(fname) as f:\n",
    "                for line in islice(f, nlines):\n",
    "                        print(line)\n",
    "x = int(input()) \n",
    "first_lines('test.txt',x)"
   ]
  },
  {
   "cell_type": "code",
   "execution_count": 39,
   "id": "5f287e35",
   "metadata": {},
   "outputs": [
    {
     "name": "stdout",
     "output_type": "stream",
     "text": [
      "2\n",
      "J'ai 21 ans\n",
      "Merci"
     ]
    }
   ],
   "source": [
    "def LastNlines(fname, N):\n",
    "    with open(fname) as file:\n",
    "        for line in (file.readlines() [-N:]):\n",
    "            print(line, end ='')\n",
    "            \n",
    "if __name__ == '__main__':\n",
    "    fname = 'test.txt'\n",
    "    y = int(input())\n",
    "    N = y\n",
    "    try:\n",
    "        LastNlines(fname, N)\n",
    "    except:\n",
    "        print('File not found')"
   ]
  },
  {
   "cell_type": "code",
   "execution_count": 46,
   "id": "30c62c0a",
   "metadata": {},
   "outputs": [
    {
     "name": "stdout",
     "output_type": "stream",
     "text": [
      "9\n"
     ]
    }
   ],
   "source": [
    "number_of_words = 0\n",
    "with open(r'test.txt','r') as file:\n",
    "    data = file.read()\n",
    "    lines = data.split()\n",
    "    number_of_words += len(lines)\n",
    "print(number_of_words)"
   ]
  },
  {
   "cell_type": "code",
   "execution_count": 47,
   "id": "3f34573d",
   "metadata": {},
   "outputs": [
    {
     "name": "stdout",
     "output_type": "stream",
     "text": [
      "1\n",
      "Merci"
     ]
    }
   ],
   "source": [
    "def LastNlines(fname, N):\n",
    "    with open(fname) as file:\n",
    "        for line in (file.readlines() [-N:]):\n",
    "            print(line, end ='')\n",
    "            \n",
    "if __name__ == '__main__':\n",
    "    fname = 'test.txt'\n",
    "    y = int(input())\n",
    "    N = y\n",
    "    try:\n",
    "        LastNlines(fname, N)\n",
    "    except:\n",
    "        print('File not found')"
   ]
  },
  {
   "cell_type": "code",
   "execution_count": null,
   "id": "d5ddd538",
   "metadata": {},
   "outputs": [],
   "source": []
  }
 ],
 "metadata": {
  "kernelspec": {
   "display_name": "Python 3 (ipykernel)",
   "language": "python",
   "name": "python3"
  },
  "language_info": {
   "codemirror_mode": {
    "name": "ipython",
    "version": 3
   },
   "file_extension": ".py",
   "mimetype": "text/x-python",
   "name": "python",
   "nbconvert_exporter": "python",
   "pygments_lexer": "ipython3",
   "version": "3.9.7"
  }
 },
 "nbformat": 4,
 "nbformat_minor": 5
}
