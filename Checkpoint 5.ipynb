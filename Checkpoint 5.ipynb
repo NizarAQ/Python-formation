{
 "cells": [
  {
   "cell_type": "code",
   "execution_count": 23,
   "id": "384bbd5c",
   "metadata": {},
   "outputs": [
    {
     "name": "stdout",
     "output_type": "stream",
     "text": [
      "(1, 2, 3)\n"
     ]
    }
   ],
   "source": [
    "class Point3D:\n",
    "    def __init__(self, x, y, z):\n",
    "        self.x = x\n",
    "        self.y = y\n",
    "        self.z = z\n",
    "    def __repr__(self):\n",
    "        return \"(%d, %d, %d)\" % (self.x, self.y, self.z)\n",
    "        \n",
    "my_point = Point3D(1,2,3)\n",
    "\n",
    "print(my_point)"
   ]
  },
  {
   "cell_type": "code",
   "execution_count": 21,
   "id": "53235d8b",
   "metadata": {},
   "outputs": [
    {
     "name": "stdout",
     "output_type": "stream",
     "text": [
      "the area is 12 and the perimeter is 14\n"
     ]
    }
   ],
   "source": [
    "class Rectangle(:\n",
    "    def __init__(self, length, width):\n",
    "        self.length = length\n",
    "        self.width  = width\n",
    "\n",
    "    def area(self):\n",
    "        return self.length*self.width\n",
    "    \n",
    "    def perimeter(self):\n",
    "        return 2*(self.length+self.width)\n",
    "\n",
    "my_rectangle = Rectangle(4, 3)\n",
    "\n",
    "print(\"the area is\", my_rectangle.area(),\"and the perimeter is\", my_rectangle.perimeter())"
   ]
  },
  {
   "cell_type": "code",
   "execution_count": 95,
   "id": "d8d240db",
   "metadata": {},
   "outputs": [
    {
     "name": "stdout",
     "output_type": "stream",
     "text": [
      "the area of the circle is 78 and the perimeter is 31\n"
     ]
    },
    {
     "data": {
      "text/plain": [
       "'the point belongs to the circle'"
      ]
     },
     "execution_count": 95,
     "metadata": {},
     "output_type": "execute_result"
    }
   ],
   "source": [
    "class Circle:\n",
    "    def __init__(self, O, r):\n",
    "        self.center = O\n",
    "        self.radius = r\n",
    "\n",
    "    def area(self):\n",
    "        return (self.radius**2)*3.14\n",
    "    \n",
    "    def perimeter(self):\n",
    "        return 2*self.radius*3.14\n",
    "\n",
    "def inside(self, x, y):\n",
    "    if x<MyCircle.radius and y<MyCircle.radius:\n",
    "        return \"the point belongs to the circle\"\n",
    "    else:\n",
    "        return \"the point does not belong to the circle \"\n",
    "\n",
    "MyCircle = Circle(0, 5)\n",
    "print(\"the area of the circle is\", int(MyCircle.area()),\"and the perimeter is\", int(MyCircle.perimeter()))\n",
    "\n",
    "inside(A, 4, 1)"
   ]
  },
  {
   "cell_type": "code",
   "execution_count": 126,
   "id": "17387cd1",
   "metadata": {},
   "outputs": [
    {
     "name": "stdout",
     "output_type": "stream",
     "text": [
      "Enter the amount you want to deposit: 700\n",
      "Amount Deposited: 700.0\n",
      "Enter the amount you want to Withdraw: 500\n",
      "You Withdrew: 500.0\n",
      "\n",
      " Net Available Balance= 200.0\n"
     ]
    }
   ],
   "source": [
    "class Bank:\n",
    "    def __init__(self):\n",
    "        self.balance = 0\n",
    "    \n",
    "    def deposit(self):\n",
    "        amount = float(input(\"Enter the amount you want to deposit: \"))\n",
    "        self.balance += amount\n",
    "        print(\"Amount Deposited:\",amount)\n",
    "        \n",
    "    def withdraw(self):\n",
    "        amount = float(input(\"Enter the amount you want to Withdraw: \"))\n",
    "        if self.balance>=amount:\n",
    "            self.balance-=amount\n",
    "            print(\"You Withdrew:\", amount)\n",
    "        else:\n",
    "            print(\"Insufficient balance \")\n",
    "            \n",
    "    def solde(self):\n",
    "        print(\"\\n Net Available Balance=\",self.balance)\n",
    "\n",
    "MyBankAccount = Bank()\n",
    "\n",
    "MyBankAccount.deposit()\n",
    "MyBankAccount.withdraw()\n",
    "MyBankAccount.solde()"
   ]
  }
 ],
 "metadata": {
  "kernelspec": {
   "display_name": "Python 3 (ipykernel)",
   "language": "python",
   "name": "python3"
  },
  "language_info": {
   "codemirror_mode": {
    "name": "ipython",
    "version": 3
   },
   "file_extension": ".py",
   "mimetype": "text/x-python",
   "name": "python",
   "nbconvert_exporter": "python",
   "pygments_lexer": "ipython3",
   "version": "3.9.7"
  }
 },
 "nbformat": 4,
 "nbformat_minor": 5
}
