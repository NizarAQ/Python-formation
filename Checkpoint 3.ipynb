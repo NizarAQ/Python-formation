{
 "cells": [
  {
   "cell_type": "code",
   "execution_count": 7,
   "id": "b082cee4",
   "metadata": {},
   "outputs": [
    {
     "name": "stdout",
     "output_type": "stream",
     "text": [
      "2 3 6\n"
     ]
    },
    {
     "data": {
      "text/plain": [
       "36"
      ]
     },
     "execution_count": 7,
     "metadata": {},
     "output_type": "execute_result"
    }
   ],
   "source": [
    "def multip(n):\n",
    "    c=1\n",
    "    for i in n:\n",
    "        c = c*i\n",
    "    return c\n",
    "\n",
    "x = input()\n",
    "x = x.split(\" \")\n",
    "y = list(x)\n",
    "z = [int(i) for i in y]\n",
    "\n",
    "multip(z)"
   ]
  },
  {
   "cell_type": "code",
   "execution_count": 12,
   "id": "fc9e3541",
   "metadata": {},
   "outputs": [
    {
     "data": {
      "text/plain": [
       "[(2, 1), (1, 2), (2, 3), (4, 4), (2, 5)]"
      ]
     },
     "execution_count": 12,
     "metadata": {},
     "output_type": "execute_result"
    }
   ],
   "source": [
    "def comb(n):\n",
    "    n.sort(key=lambda tup: tup[1]) \n",
    "    return n\n",
    "\n",
    "comb([(2, 5), (1, 2), (4, 4), (2, 3), (2, 1)])   "
   ]
  },
  {
   "cell_type": "code",
   "execution_count": 24,
   "id": "a5da7130",
   "metadata": {},
   "outputs": [
    {
     "data": {
      "text/plain": [
       "{'a': 400, 'b': 400, 'c': 300, 'd': 400}"
      ]
     },
     "execution_count": 24,
     "metadata": {},
     "output_type": "execute_result"
    }
   ],
   "source": [
    "def add_dict(a,b):\n",
    "    c=dict(a)\n",
    "    c.update(b) \n",
    "    for i, j in a.items():\n",
    "        for x, y in b.items():\n",
    "            if i == x:\n",
    "                c[i]=(j+y)\n",
    "    return c\n",
    "\n",
    "d1 = {'a': 100, 'b': 200, 'c':300}\n",
    "d2 = {'a': 300, 'b': 200, 'd':400}\n",
    "\n",
    "add_dict(d1,d2)"
   ]
  },
  {
   "cell_type": "code",
   "execution_count": 41,
   "id": "aa630a13",
   "metadata": {},
   "outputs": [
    {
     "name": "stdout",
     "output_type": "stream",
     "text": [
      "enter a number : 8\n"
     ]
    },
    {
     "data": {
      "text/plain": [
       "{1: 1, 2: 4, 3: 9, 4: 16, 5: 25, 6: 36, 7: 49, 8: 64}"
      ]
     },
     "execution_count": 41,
     "metadata": {},
     "output_type": "execute_result"
    }
   ],
   "source": [
    "def sq(n):\n",
    "    a={}\n",
    "    for i in range(1,n+1):\n",
    "        a[i] = i*i\n",
    "    return a\n",
    "x = int(input(\"enter a number : \"))\n",
    "sq(x)"
   ]
  },
  {
   "cell_type": "code",
   "execution_count": 56,
   "id": "ce7d91f2",
   "metadata": {},
   "outputs": [
    {
     "data": {
      "text/plain": [
       "[('item3', '24.5'), ('item2', '15.10'), ('item1', '12.20')]"
      ]
     },
     "execution_count": 56,
     "metadata": {},
     "output_type": "execute_result"
    }
   ],
   "source": [
    "def sort_fl(n):\n",
    "    n.sort(key=lambda x:float(x[1]), reverse= True) \n",
    "    return n\n",
    "\n",
    "sort_fl([('item1', '12.20'), ('item2', '15.10'), ('item3', '24.5')])"
   ]
  },
  {
   "cell_type": "code",
   "execution_count": null,
   "id": "ab5030b6",
   "metadata": {},
   "outputs": [],
   "source": []
  }
 ],
 "metadata": {
  "kernelspec": {
   "display_name": "Python 3 (ipykernel)",
   "language": "python",
   "name": "python3"
  },
  "language_info": {
   "codemirror_mode": {
    "name": "ipython",
    "version": 3
   },
   "file_extension": ".py",
   "mimetype": "text/x-python",
   "name": "python",
   "nbconvert_exporter": "python",
   "pygments_lexer": "ipython3",
   "version": "3.9.7"
  }
 },
 "nbformat": 4,
 "nbformat_minor": 5
}
