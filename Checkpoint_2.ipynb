{
 "cells": [
  {
   "cell_type": "code",
   "execution_count": 16,
   "id": "7d688e0b",
   "metadata": {},
   "outputs": [
    {
     "name": "stdout",
     "output_type": "stream",
     "text": [
      "enter your first name : AQACHMAR\n",
      "enter your last name : Nizar\n",
      "RAMHCAQA raziN\n"
     ]
    }
   ],
   "source": [
    "x=input(\"enter your first name : \")\n",
    "y=input(\"enter your last name : \")\n",
    "print(x[::-1], y[::-1])"
   ]
  },
  {
   "cell_type": "code",
   "execution_count": 21,
   "id": "17b685cf",
   "metadata": {},
   "outputs": [
    {
     "name": "stdout",
     "output_type": "stream",
     "text": [
      "enter a number : 5\n",
      "615\n"
     ]
    }
   ],
   "source": [
    "x=input(\"enter a number : \")\n",
    "x=int(x)+int(x*2)+int(x*3)\n",
    "print(x)"
   ]
  },
  {
   "cell_type": "code",
   "execution_count": 29,
   "id": "91c6c781",
   "metadata": {},
   "outputs": [
    {
     "name": "stdout",
     "output_type": "stream",
     "text": [
      "enter a number : 4\n",
      "your number is even\n"
     ]
    }
   ],
   "source": [
    "x=input(\"enter a number : \")\n",
    "if int(x)%2==0:\n",
    "    print(\"your number is even\")\n",
    "else:\n",
    "    print(\"your number is odd\")"
   ]
  },
  {
   "cell_type": "code",
   "execution_count": 47,
   "id": "0628404c",
   "metadata": {},
   "outputs": [
    {
     "name": "stdout",
     "output_type": "stream",
     "text": [
      "2002 2009 2016 2023 2037 2044 2051 2058 2072 2079 2086 2093 2107 2114 2121 2128 2142 2149 2156 2163 2177 2184 2191 2198 2212 2219 2226 2233 2247 2254 2261 2268 2282 2289 2296 2303 2317 2324 2331 2338 2352 2359 2366 2373 2387 2394 2401 2408 2422 2429 2436 2443 2457 2464 2471 2478 2492 2499 2506 2513 2527 2534 2541 2548 2562 2569 2576 2583 2597 2604 2611 2618 2632 2639 2646 2653 2667 2674 2681 2688 2702 2709 2716 2723 2737 2744 2751 2758 2772 2779 2786 2793 2807 2814 2821 2828 2842 2849 2856 2863 2877 2884 2891 2898 2912 2919 2926 2933 2947 2954 2961 2968 2982 2989 2996 3003 3017 3024 3031 3038 3052 3059 3066 3073 3087 3094 3101 3108 3122 3129 3136 3143 3157 3164 3171 3178 3192 3199 "
     ]
    }
   ],
   "source": [
    "for x in range(2000,3200):\n",
    "    if x%7==0 and x%5!=0:\n",
    "        print(x, end=\" \")"
   ]
  },
  {
   "cell_type": "code",
   "execution_count": 76,
   "id": "6b089c5c",
   "metadata": {},
   "outputs": [
    {
     "name": "stdout",
     "output_type": "stream",
     "text": [
      "enter a number : 8\n",
      "40320\n"
     ]
    }
   ],
   "source": [
    "x=int(input(\"enter a number : \"))\n",
    "if x<0:\n",
    "    print(\"factorial does not exist for negative numbers\")\n",
    "elif x==0:\n",
    "    print(\"factorial = 1\")\n",
    "else:\n",
    "    factorial = 1\n",
    "    for i in range(1, x+1):\n",
    "        factorial=factorial*i\n",
    "    print(factorial)"
   ]
  },
  {
   "cell_type": "code",
   "execution_count": 81,
   "id": "d408a19d",
   "metadata": {},
   "outputs": [
    {
     "name": "stdout",
     "output_type": "stream",
     "text": [
      "write a sentence : hello team\n",
      "hlota\n"
     ]
    }
   ],
   "source": [
    "def odd_index(str):\n",
    "    result =\"\"\n",
    "    for i in range(len(str)):\n",
    "        if i%2==0:\n",
    "            result = result + str[i]\n",
    "    return result\n",
    "x=input(\"write a sentence : \")\n",
    "print(odd_index(x))\n",
    "    "
   ]
  },
  {
   "cell_type": "code",
   "execution_count": 114,
   "id": "0b468a72",
   "metadata": {},
   "outputs": [
    {
     "name": "stdout",
     "output_type": "stream",
     "text": [
      "enter the price : 250\n",
      "the discount amount is 75.0 $\n",
      "the price after discount is 175.0 $\n"
     ]
    }
   ],
   "source": [
    "def discount(price):\n",
    "    if price >= 500:\n",
    "        discount = price*0.5\n",
    "    elif price<500 and price>=200:\n",
    "        discount = price*0.3\n",
    "    else:\n",
    "        discount = price*0.1\n",
    "    return discount\n",
    "\n",
    "x=int(input(\"enter the price : \"))\n",
    "y=x-discount(x)\n",
    "print(\"the discount amount is\", discount(x),\"$\")\n",
    "print(\"the price after discount is\", y,\"$\")"
   ]
  },
  {
   "cell_type": "code",
   "execution_count": null,
   "id": "dcfeb4a8",
   "metadata": {},
   "outputs": [],
   "source": []
  }
 ],
 "metadata": {
  "kernelspec": {
   "display_name": "Python 3 (ipykernel)",
   "language": "python",
   "name": "python3"
  },
  "language_info": {
   "codemirror_mode": {
    "name": "ipython",
    "version": 3
   },
   "file_extension": ".py",
   "mimetype": "text/x-python",
   "name": "python",
   "nbconvert_exporter": "python",
   "pygments_lexer": "ipython3",
   "version": "3.9.7"
  }
 },
 "nbformat": 4,
 "nbformat_minor": 5
}
